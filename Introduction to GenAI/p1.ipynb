{
 "cells": [
  {
   "cell_type": "markdown",
   "metadata": {},
   "source": [
    "# Project 1: Decision Trees"
   ]
  },
  {
   "cell_type": "code",
   "execution_count": 407,
   "metadata": {},
   "outputs": [
    {
     "name": "stdout",
     "output_type": "stream",
     "text": [
      "    Temperature  Humidity  Wind Speed  Rain\n",
      "0            53        34           6     0\n",
      "1            67        51          14     0\n",
      "2            69        57          22     1\n",
      "3            34        52          20     1\n",
      "4            37        42          13     0\n",
      "5            56        50          19     0\n",
      "6            35        54          17     1\n",
      "7            37        38          15     0\n",
      "8            41        49          18     1\n",
      "9            37        62          10     1\n",
      "10           48        53          21     0\n",
      "11           51        94          14     1\n",
      "12           50        67          10     1\n",
      "13           50        57           6     1\n",
      "14           39        50          15     1\n"
     ]
    }
   ],
   "source": [
    "# Part 1: Building the Decision Tree\n",
    "\n",
    "# Imports\n",
    "import pandas as pd\n",
    "from sklearn.model_selection import train_test_split\n",
    "from sklearn.preprocessing import StandardScaler\n",
    "from sklearn.tree import DecisionTreeClassifier\n",
    "from sklearn.metrics import accuracy_score\n",
    "\n",
    "# Toy dataset based off of local weather\n",
    "data = {\n",
    "    \"Temperature\": [53, 67, 69, 34, 37, 56, 35, 37, 41, 37, 48, 51, 50, 50, 39],\n",
    "    \"Humidity\": [34, 51, 57, 52, 42, 50, 54, 38, 49, 62, 53, 94, 67, 57, 50],\n",
    "    \"Wind Speed\": [6, 14, 22, 20, 13, 19, 17, 15, 18, 10, 21, 14, 10, 6, 15],\n",
    "    \"Rain\": [0, 0, 1, 1, 0, 0, 1, 0, 1, 1, 0, 1, 1, 1, 1],\n",
    "}\n",
    "\n",
    "df = pd.DataFrame(data)\n",
    "print(df)"
   ]
  },
  {
   "cell_type": "code",
   "execution_count": 408,
   "metadata": {},
   "outputs": [],
   "source": [
    "# Normalize\n",
    "scaler = StandardScaler()\n",
    "df[[\"Temperature\", \"Humidity\", \"Wind Speed\"]] = scaler.fit_transform(\n",
    "    df[[\"Temperature\", \"Humidity\", \"Wind Speed\"]]\n",
    ")\n",
    "\n",
    "# Split\n",
    "X = df[[\"Temperature\", \"Humidity\", \"Wind Speed\"]]\n",
    "y = df[\"Rain\"]  # Target variable\n",
    "\n",
    "X_train, X_test, y_train, y_test = train_test_split(\n",
    "    X, y, test_size=0.3, random_state=42\n",
    ")\n",
    "\n",
    "# Train and predict tree model with depth of 1\n",
    "clf = DecisionTreeClassifier(max_depth=1, random_state=42)\n",
    "clf.fit(X_train, y_train)\n",
    "y_pred = clf.predict(X_test)"
   ]
  },
  {
   "cell_type": "code",
   "execution_count": 409,
   "metadata": {},
   "outputs": [
    {
     "name": "stdout",
     "output_type": "stream",
     "text": [
      "Training Set Accuracy: 80.00%\n",
      "Testing Set Accuracy: 80.00%\n"
     ]
    }
   ],
   "source": [
    "# Part 2: Debugging Issues\n",
    "\n",
    "# Calculate accuracy on training vs test set\n",
    "train_acc = clf.score(X_train, y_train)\n",
    "test_acc = clf.score(X_test, y_test)\n",
    "\n",
    "print(f\"Training Set Accuracy: {train_acc * 100:.2f}%\")\n",
    "print(f\"Testing Set Accuracy: {test_acc* 100:.2f}%\")"
   ]
  },
  {
   "cell_type": "code",
   "execution_count": 410,
   "metadata": {},
   "outputs": [
    {
     "name": "stdout",
     "output_type": "stream",
     "text": [
      "Training Set Accuracy: 100.00%\n",
      "Testing Set Accuracy: 100.00%\n"
     ]
    }
   ],
   "source": [
    "# Create tweaked model with higher tree depth to address underfitting\n",
    "clf_adjusted = DecisionTreeClassifier(max_depth=3, random_state=42)\n",
    "clf_adjusted.fit(X_train, y_train)\n",
    "\n",
    "train_acc = clf_adjusted.score(X_train, y_train)\n",
    "test_acc = clf_adjusted.score(X_test, y_test)\n",
    "\n",
    "print(f\"Training Set Accuracy: {train_acc * 100:.2f}%\")\n",
    "print(f\"Testing Set Accuracy: {test_acc* 100:.2f}%\")"
   ]
  },
  {
   "cell_type": "code",
   "execution_count": 411,
   "metadata": {},
   "outputs": [
    {
     "name": "stdout",
     "output_type": "stream",
     "text": [
      "Accuracy: 80.00%\n",
      "Precision: 0.75\n",
      "Recall: 1.00\n"
     ]
    }
   ],
   "source": [
    "# Part 3: Evaluating the Model\n",
    "\n",
    "from sklearn.metrics import (\n",
    "    accuracy_score,\n",
    "    precision_score,\n",
    "    recall_score,\n",
    "    confusion_matrix,\n",
    ")\n",
    "\n",
    "y_pred = clf.predict(X_test)\n",
    "\n",
    "# Calculate scores\n",
    "print(f\"Accuracy: {accuracy_score(y_test, y_pred) * 100:.2f}%\")\n",
    "print(f\"Precision: {precision_score(y_test, y_pred):.2f}\")\n",
    "print(f\"Recall: {recall_score(y_test, y_pred):.2f}\")"
   ]
  },
  {
   "cell_type": "code",
   "execution_count": 412,
   "metadata": {},
   "outputs": [
    {
     "data": {
      "image/png": "[encoded data removed]",
      "text/plain": [
       "<Figure size 600x600 with 1 Axes>"
      ]
     },
     "metadata": {},
     "output_type": "display_data"
    }
   ],
   "source": [
    "# Produce confusion matrix\n",
    "\n",
    "import seaborn as sns\n",
    "\n",
    "cm = confusion_matrix(y_test, y_pred)\n",
    "\n",
    "plt.figure(figsize=(6, 6))\n",
    "sns.heatmap(\n",
    "    cm,\n",
    "    annot=True,\n",
    "    fmt=\"d\",\n",
    "    cmap=\"Blues\",\n",
    "    xticklabels=[\"No Rain\", \"Rain\"],\n",
    "    yticklabels=[\"No Rain\", \"Rain\"],\n",
    "    cbar=False,\n",
    ")\n",
    "plt.title(\"Rain Prediction Model Confusion Matrix\")\n",
    "plt.xlabel(\"Predicted\")\n",
    "plt.ylabel(\"Actual\")\n",
    "plt.show()"
   ]
  }
 ],
 "metadata": {
  "kernelspec": {
   "display_name": "Python 3",
   "language": "python",
   "name": "python3"
  },
  "language_info": {
   "codemirror_mode": {
    "name": "ipython",
    "version": 3
   },
   "file_extension": ".py",
   "mimetype": "text/x-python",
   "name": "python",
   "nbconvert_exporter": "python",
   "pygments_lexer": "ipython3",
   "version": "3.13.0"
  }
 },
 "nbformat": 4,
 "nbformat_minor": 2
}
