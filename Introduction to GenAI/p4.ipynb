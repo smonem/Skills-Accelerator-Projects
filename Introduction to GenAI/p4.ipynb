{
 "cells": [
  {
   "cell_type": "markdown",
   "metadata": {},
   "source": [
    "# Project: AI-Powered Text Completion\n",
    "\n",
    "### Part 1: Building the Application"
   ]
  },
  {
   "cell_type": "code",
   "execution_count": 70,
   "metadata": {},
   "outputs": [
    {
     "name": "stdout",
     "output_type": "stream",
     "text": [
      "Snowflakes gently fall\n",
      "Blanketing the winter scene\n",
      "Peaceful silence deep\n"
     ]
    }
   ],
   "source": [
    "# Set up environment\n",
    "\n",
    "# Huggingchat Python API\n",
    "# https://github.com/Soulter/hugging-chat-api\n",
    "\n",
    "from hugchat import hugchat\n",
    "from hugchat.login import Login\n",
    "\n",
    "# Enter Huggingface credentials\n",
    "EMAIL = \"_\"\n",
    "PASSWD = \"_\"\n",
    "cookie_path_dir = \"./cookies/\"\n",
    "sign = Login(EMAIL, PASSWD)\n",
    "cookies = sign.login(cookie_dir_path=cookie_path_dir, save_cookies=True)\n",
    "\n",
    "chatbot = hugchat.ChatBot(cookies=cookies.get_dict())\n",
    "chatbot.switch_llm(0)\n",
    "\n",
    "# Test API \n",
    "print(chatbot.chat(\"Write me a haiku!\").wait_until_done())"
   ]
  },
  {
   "cell_type": "code",
   "execution_count": 71,
   "metadata": {},
   "outputs": [],
   "source": [
    "# Application for sending and receiving responses\n",
    "\n",
    "class chatbot_app():\n",
    "    def __init__(self, email, passwd):\n",
    "        self.email = email\n",
    "        self.passwd = passwd\n",
    "\n",
    "        cookie_path_dir = \"./cookies/\"\n",
    "        sign = Login(EMAIL, PASSWD)\n",
    "        cookies = sign.login(cookie_dir_path=cookie_path_dir, save_cookies=True)\n",
    "\n",
    "        self.chatbot = hugchat.ChatBot(cookies=cookies.get_dict())\n",
    "        self.chatbot.switch_llm(0)\n",
    "\n",
    "    def talk(self, request):\n",
    "       # Get response\n",
    "        print(self.chatbot.chat(request).wait_until_done())\n"
   ]
  },
  {
   "cell_type": "code",
   "execution_count": 72,
   "metadata": {},
   "outputs": [
    {
     "name": "stdout",
     "output_type": "stream",
     "text": [
      "As the clock struck midnight, a lone firefly danced outside her window, its gentle glow illuminating the small note on her bedside table: \"Meet me under the stars.\" She smiled, knowing tonight was the start of a new adventure.\n"
     ]
    }
   ],
   "source": [
    "# Test application\n",
    "\n",
    "test_chat = chatbot_app(EMAIL, PASSWD)\n",
    "test_chat.talk(\"Write me a very short story\")"
   ]
  },
  {
   "cell_type": "markdown",
   "metadata": {},
   "source": [
    "### Part 2: Debugging Issues"
   ]
  },
  {
   "cell_type": "code",
   "execution_count": 73,
   "metadata": {},
   "outputs": [
    {
     "name": "stdout",
     "output_type": "stream",
     "text": [
      "Prompt empty. Please provide a valid prompt.\n"
     ]
    }
   ],
   "source": [
    "# Input Handling\n",
    "\n",
    "class chatbot_app_v2(chatbot_app):\n",
    "    def __init__(self, email, passwd):\n",
    "        super().__init__(email, passwd)\n",
    "\n",
    "    def talk(self, request):\n",
    "        # Validate request\n",
    "        if not request:\n",
    "            print(\"Prompt empty. Please provide a valid prompt.\")\n",
    "            return\n",
    "\n",
    "        # Get response\n",
    "        print(self.chatbot.chat(request).wait_until_done())\n",
    "\n",
    "    def reset(self):\n",
    "        # Restart conversation\n",
    "        self.chatbot.new_conversation(switch_to = True)\n",
    "\n",
    "    def switch_model(self, num):\n",
    "        # Change model\n",
    "        self.chatbot.switch_llm(num)\n",
    "\n",
    "test_chat = chatbot_app_v2(EMAIL, PASSWD)\n",
    "test_chat.talk(\"\")"
   ]
  },
  {
   "cell_type": "markdown",
   "metadata": {},
   "source": [
    "### Part 3: Validating the Application"
   ]
  },
  {
   "cell_type": "code",
   "execution_count": 74,
   "metadata": {},
   "outputs": [
    {
     "name": "stdout",
     "output_type": "stream",
     "text": [
      "As the clock struck midnight, a lone firefly named Luna landed on the windowsill of a small cottage, where an old, leather-bound book lay open to a page with a single, glowing sentence that read: \"You are not alone.\"\n",
      "Evolution is the scientifically supported theory that all species of life have developed from a common ancestor through a process of variation, mutation, genetic drift, and natural selection, resulting in the diversity of organisms that exist today.\n"
     ]
    }
   ],
   "source": [
    "# Test with various short prompts\n",
    "\n",
    "test_chat.talk(\"Tell me a one-sentence story.\")\n",
    "test_chat.talk(\"Explain evolution in one sentence.\")"
   ]
  },
  {
   "cell_type": "markdown",
   "metadata": {},
   "source": [
    "Outputs:\n",
    "\n",
    "As the old, mysterious clock struck midnight, a single, forgotten door in the abandoned mansion creaked open, revealing a room filled with memories, letters, and a single, fading photograph of a love that had been lost for decades.\n",
    "\n",
    "Evolution is the scientific theory that all living organisms have developed and diversified over time through the process of natural selection, genetic variation, and mutation, resulting in the gradual adaptation and transformation of species to better suit their environments."
   ]
  },
  {
   "cell_type": "code",
   "execution_count": 75,
   "metadata": {},
   "outputs": [
    {
     "name": "stdout",
     "output_type": "stream",
     "text": [
      "meta-llama/Llama-3.3-70B-Instruct\n",
      "Qwen/Qwen2.5-72B-Instruct\n",
      "CohereForAI/c4ai-command-r-plus-08-2024\n",
      "deepseek-ai/DeepSeek-R1-Distill-Qwen-32B\n",
      "nvidia/Llama-3.1-Nemotron-70B-Instruct-HF\n",
      "Qwen/QwQ-32B\n",
      "Qwen/Qwen2.5-Coder-32B-Instruct\n",
      "google/gemma-3-27b-it\n",
      "meta-llama/Llama-3.2-11B-Vision-Instruct\n",
      "NousResearch/Hermes-3-Llama-3.1-8B\n",
      "mistralai/Mistral-Nemo-Instruct-2407\n",
      "microsoft/Phi-3.5-mini-instruct\n"
     ]
    }
   ],
   "source": [
    "# Modify parameters\n",
    "\n",
    "# Print the available models\n",
    "for m in chatbot.get_available_llm_models():\n",
    "    print(m)"
   ]
  },
  {
   "cell_type": "code",
   "execution_count": 77,
   "metadata": {},
   "outputs": [
    {
     "name": "stdout",
     "output_type": "stream",
     "text": [
      "The old oak whispered secrets of the past to the wind, which carried them away into the unknown.\n",
      "Evolution is the gradual change in species over generations, driven by natural selection and genetic variation, which allows organisms to adapt to their environments.\n"
     ]
    }
   ],
   "source": [
    "# Switch model \n",
    "\n",
    "test_chat.switch_model(1) # Qwen\n",
    "test_chat.reset()\n",
    "\n",
    "test_chat.talk(\"Tell me a one-sentence story.\")\n",
    "test_chat.talk(\"Explain evolution in one sentence.\")"
   ]
  },
  {
   "cell_type": "markdown",
   "metadata": {},
   "source": [
    "### Record Observations\n",
    "\n",
    "New Outputs:\n",
    "\n",
    "The old oak whispered secrets of the past to the wind, which carried them away into the unknown.\n",
    "\n",
    "Evolution is the gradual change in species over generations, driven by natural selection and genetic variation, which allows organisms to adapt to their environments.\n",
    "\n",
    "**Evaluation**: The change in model led to the outputs becoming more concise, thus following the original prompt instructions closer while being less creative overall."
   ]
  }
 ],
 "metadata": {
  "kernelspec": {
   "display_name": "Python 3",
   "language": "python",
   "name": "python3"
  },
  "language_info": {
   "codemirror_mode": {
    "name": "ipython",
    "version": 3
   },
   "file_extension": ".py",
   "mimetype": "text/x-python",
   "name": "python",
   "nbconvert_exporter": "python",
   "pygments_lexer": "ipython3",
   "version": "3.13.0"
  }
 },
 "nbformat": 4,
 "nbformat_minor": 2
}
