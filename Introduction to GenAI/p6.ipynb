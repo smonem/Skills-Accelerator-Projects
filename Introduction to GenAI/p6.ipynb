{
  "cells": [
    {
      "cell_type": "markdown",
      "metadata": {
        "id": "AHAZnhKbzE7I"
      },
      "source": [
        "# Project: Text generation with LSTM\n",
        "\n",
        "*Adapted from: https://keras.io/examples/generative/lstm_character_level_text_generation/*"
      ]
    },
    {
      "cell_type": "markdown",
      "metadata": {
        "id": "PJ0U0EwrzE7J"
      },
      "source": [
        "# 1. Dataset Preparation\n",
        "\n",
        "### 1. Dataset selection"
      ]
    },
    {
      "cell_type": "code",
      "execution_count": 3,
      "metadata": {
        "id": "d6rlI_JMSkN3",
        "colab": {
          "base_uri": "https://localhost:8080/"
        },
        "outputId": "238e03ca-fa61-4754-947a-ae0685b061f9"
      },
      "outputs": [
        {
          "output_type": "stream",
          "name": "stdout",
          "text": [
            "Downloading data from https://www.gutenberg.org/cache/epub/174/pg174.txt\n",
            "\u001b[1m465857/465857\u001b[0m \u001b[32m━━━━━━━━━━━━━━━━━━━━\u001b[0m\u001b[37m\u001b[0m \u001b[1m1s\u001b[0m 2us/step\n"
          ]
        }
      ],
      "source": [
        "import keras\n",
        "from keras import layers\n",
        "\n",
        "import numpy as np\n",
        "import random\n",
        "import io\n",
        "\n",
        "# Dataset used: Picture of Dorian Gray from Project Gutenburg\n",
        "\n",
        "path = keras.utils.get_file(\n",
        "    \"dorian.txt\",\n",
        "    origin=\"https://www.gutenberg.org/cache/epub/174/pg174.txt\",\n",
        ")"
      ]
    },
    {
      "cell_type": "markdown",
      "metadata": {
        "id": "nR6BLgDbzE7J"
      },
      "source": [
        "\n",
        "### 2. Preprocess text"
      ]
    },
    {
      "cell_type": "code",
      "execution_count": 4,
      "metadata": {
        "id": "n3235lBaSkN3",
        "outputId": "8e39f29c-24c4-4fc8-bb4f-e647388f6862",
        "colab": {
          "base_uri": "https://localhost:8080/"
        }
      },
      "outputs": [
        {
          "output_type": "stream",
          "name": "stdout",
          "text": [
            "Corpus length: 448622\n",
            "Total chars: 69\n",
            "Number of sequences: 149528\n"
          ]
        }
      ],
      "source": [
        "path = keras.utils.get_file(\n",
        "    \"dorian.txt\",\n",
        "    origin=\"https://www.gutenberg.org/cache/epub/174/pg174.txt\",\n",
        ")\n",
        "with io.open(path, encoding=\"utf-8\") as f:\n",
        "    text = f.read().lower()\n",
        "text = text.replace(\"\\n\", \" \")\n",
        "print(\"Corpus length:\", len(text))\n",
        "\n",
        "chars = sorted(list(set(text)))\n",
        "print(\"Total chars:\", len(chars))\n",
        "char_indices = dict((c, i) for i, c in enumerate(chars))\n",
        "indices_char = dict((i, c) for i, c in enumerate(chars))\n",
        "\n",
        "maxlen = 40\n",
        "step = 3\n",
        "sentences = []\n",
        "next_chars = []\n",
        "for i in range(0, len(text) - maxlen, step):\n",
        "    sentences.append(text[i : i + maxlen])\n",
        "    next_chars.append(text[i + maxlen])\n",
        "print(\"Number of sequences:\", len(sentences))\n",
        "\n",
        "x = np.zeros((len(sentences), maxlen, len(chars)), dtype=\"bool\")\n",
        "y = np.zeros((len(sentences), len(chars)), dtype=\"bool\")\n",
        "for i, sentence in enumerate(sentences):\n",
        "    for t, char in enumerate(sentence):\n",
        "        x[i, t, char_indices[char]] = 1\n",
        "    y[i, char_indices[next_chars[i]]] = 1\n"
      ]
    },
    {
      "cell_type": "markdown",
      "metadata": {
        "id": "cERbu3l6zE7J"
      },
      "source": [
        "# 2. Building the LSTM\n",
        "\n",
        "### 1/2. Choose framework and define architecture"
      ]
    },
    {
      "cell_type": "code",
      "execution_count": 5,
      "metadata": {
        "id": "WNvM0OT9SkN4"
      },
      "outputs": [],
      "source": [
        "model = keras.Sequential(\n",
        "    [\n",
        "        keras.Input(shape=(maxlen, len(chars))),\n",
        "        layers.LSTM(128),\n",
        "        layers.Dense(len(chars), activation=\"softmax\"),\n",
        "    ]\n",
        ")\n",
        "optimizer = keras.optimizers.RMSprop(learning_rate=0.01)\n",
        "model.compile(loss=\"categorical_crossentropy\", optimizer=optimizer)"
      ]
    },
    {
      "cell_type": "code",
      "execution_count": 6,
      "metadata": {
        "id": "SWoRixj_SkN5"
      },
      "outputs": [],
      "source": [
        "def sample(preds, temperature=1.0):\n",
        "    # helper function to sample an index from a probability array\n",
        "    preds = np.asarray(preds).astype(\"float64\")\n",
        "    preds = np.log(preds) / temperature\n",
        "    exp_preds = np.exp(preds)\n",
        "    preds = exp_preds / np.sum(exp_preds)\n",
        "    probas = np.random.multinomial(1, preds, 1)\n",
        "    return np.argmax(probas)\n"
      ]
    },
    {
      "cell_type": "markdown",
      "source": [
        "# 3. Training LSTM / Text Generation"
      ],
      "metadata": {
        "id": "nulBUBQTP3TB"
      }
    },
    {
      "cell_type": "code",
      "execution_count": 9,
      "metadata": {
        "id": "0BatLz6jSkN5",
        "outputId": "68a41ce3-30af-499f-de33-716b57c8bf88",
        "colab": {
          "base_uri": "https://localhost:8080/"
        }
      },
      "outputs": [
        {
          "output_type": "stream",
          "name": "stdout",
          "text": [
            "\u001b[1m1169/1169\u001b[0m \u001b[32m━━━━━━━━━━━━━━━━━━━━\u001b[0m\u001b[37m\u001b[0m \u001b[1m6s\u001b[0m 5ms/step - loss: 1.1784\n",
            "\n",
            "Generating text after epoch: 0\n",
            "...Diversity: 0.2\n",
            "...Generating with seed: \"d looked at dorian.  “are you better, my\"\n",
            "...Generated:   dear from the senses of the right of the sat on the same start that he had been the senses that she had been the soure, and in the senses and the senses of the senses of the senses that is a standing on the table.  “yes, i am side the face of the senses and the senses of the senses of the senses and the senses and wonderful things and the senses of the senses of the senses and white seems of the \n",
            "-\n",
            "...Diversity: 1.2\n",
            "...Generating with seed: \"d looked at dorian.  “are you better, my\"\n",
            "...Generated:   dear beauty home lifes in bend whose always i lord.’llw. i wins8and only is the’r with them one of any bod?  cwe there is viltly, that who all. how feept doarm, love.”  “it is in it. she contrive casen sent upers. some free-fbustent uncontal thragies, elecity of live. let it one sought dute at him fully. we won’t him was oftens in his cigarettly thought. so hard, i thours offee i thing it terribl\n",
            "-\n",
            "\u001b[1m1169/1169\u001b[0m \u001b[32m━━━━━━━━━━━━━━━━━━━━\u001b[0m\u001b[37m\u001b[0m \u001b[1m6s\u001b[0m 5ms/step - loss: 1.1676\n",
            "\n",
            "\u001b[1m1169/1169\u001b[0m \u001b[32m━━━━━━━━━━━━━━━━━━━━\u001b[0m\u001b[37m\u001b[0m \u001b[1m6s\u001b[0m 5ms/step - loss: 1.1666\n",
            "\n",
            "\u001b[1m1169/1169\u001b[0m \u001b[32m━━━━━━━━━━━━━━━━━━━━\u001b[0m\u001b[37m\u001b[0m \u001b[1m6s\u001b[0m 5ms/step - loss: 1.1610\n",
            "\n",
            "\u001b[1m1169/1169\u001b[0m \u001b[32m━━━━━━━━━━━━━━━━━━━━\u001b[0m\u001b[37m\u001b[0m \u001b[1m6s\u001b[0m 5ms/step - loss: 1.1509\n",
            "\n",
            "\u001b[1m1169/1169\u001b[0m \u001b[32m━━━━━━━━━━━━━━━━━━━━\u001b[0m\u001b[37m\u001b[0m \u001b[1m6s\u001b[0m 5ms/step - loss: 1.1489\n",
            "\n",
            "Generating text after epoch: 5\n",
            "...Diversity: 0.2\n",
            "...Generating with seed: \"orian gray was present. he had changed, \"\n",
            "...Generated:  and the memony of the sound of the starious staring a stands of the strange a stands that he had been the thing seemed to him at the senses to the senses to see her there and the starious of the strange with a horrible seen basil hallward with a state of the world and the senses things of the senses that he had been the man who had been brothing the horrible dead of her hair a stands of the world \n",
            "-\n",
            "...Diversity: 1.2\n",
            "...Generating with seed: \"orian gray was present. he had changed, \"\n",
            "...Generated:  and his head. “my dugred chular herks in cur•ed and always apcerd-sboajen?”  “there ireaded to sup. you usterreat op hia, thorey that startded snocket in nagiver. with hafêtished his hepost trace. in fet pnewly, where you simply nitled in, would not known there ideat a r, indeed, the loveli/ws was usebered agains that had kepéed them, rimius.  oger, he he afraid and of harmy why you cutching somet\n",
            "-\n",
            "\u001b[1m1169/1169\u001b[0m \u001b[32m━━━━━━━━━━━━━━━━━━━━\u001b[0m\u001b[37m\u001b[0m \u001b[1m6s\u001b[0m 5ms/step - loss: 1.1480\n",
            "\n",
            "\u001b[1m1169/1169\u001b[0m \u001b[32m━━━━━━━━━━━━━━━━━━━━\u001b[0m\u001b[37m\u001b[0m \u001b[1m6s\u001b[0m 5ms/step - loss: 1.1396\n",
            "\n",
            "\u001b[1m1169/1169\u001b[0m \u001b[32m━━━━━━━━━━━━━━━━━━━━\u001b[0m\u001b[37m\u001b[0m \u001b[1m6s\u001b[0m 5ms/step - loss: 1.1442\n",
            "\n",
            "\u001b[1m1169/1169\u001b[0m \u001b[32m━━━━━━━━━━━━━━━━━━━━\u001b[0m\u001b[37m\u001b[0m \u001b[1m6s\u001b[0m 5ms/step - loss: 1.1365\n",
            "\n",
            "\u001b[1m1169/1169\u001b[0m \u001b[32m━━━━━━━━━━━━━━━━━━━━\u001b[0m\u001b[37m\u001b[0m \u001b[1m6s\u001b[0m 5ms/step - loss: 1.1335\n",
            "\n",
            "Generating text after epoch: 10\n",
            "...Diversity: 0.2\n",
            "...Generating with seed: \" that, harry?”  “you said to me that sib\"\n",
            "...Generated:  yl vane for a little bore a woman were sure to the portrait of the portrait of the strangely lates of the world of the portrait of the more that i have a real to have a little that he want to be a wonderful that i have a real to the portrait of the conscied of the portrait of the portrait of the long that i was silenty to be something of the secrets of the point of the face of the painter that i h\n",
            "-\n",
            "...Diversity: 1.2\n",
            "...Generating with seed: \" that, harry?”  “you said to me that sib\"\n",
            "...Generated:  yl boy se bene? ste)ment fend is lord henry destrey pokent, din that he should’s all ever counteratry.”  “we ligher the wealing to themsaily?”  “outhers i tack he suck form. i made to be lunming?”  “fautht in wlated out or face over imagints,” the di? wrinply lunceds were gold andwand to twobe. suddenly could care out ? herr i should, harry,” he wain something on paid as a temminalis, ... wht it?”\n",
            "-\n",
            "\u001b[1m1169/1169\u001b[0m \u001b[32m━━━━━━━━━━━━━━━━━━━━\u001b[0m\u001b[37m\u001b[0m \u001b[1m6s\u001b[0m 5ms/step - loss: 1.1280\n",
            "\n",
            "\u001b[1m1169/1169\u001b[0m \u001b[32m━━━━━━━━━━━━━━━━━━━━\u001b[0m\u001b[37m\u001b[0m \u001b[1m6s\u001b[0m 5ms/step - loss: 1.1262\n",
            "\n",
            "\u001b[1m1169/1169\u001b[0m \u001b[32m━━━━━━━━━━━━━━━━━━━━\u001b[0m\u001b[37m\u001b[0m \u001b[1m7s\u001b[0m 6ms/step - loss: 1.1286\n",
            "\n",
            "\u001b[1m1169/1169\u001b[0m \u001b[32m━━━━━━━━━━━━━━━━━━━━\u001b[0m\u001b[37m\u001b[0m \u001b[1m6s\u001b[0m 5ms/step - loss: 1.1178\n",
            "\n",
            "\u001b[1m1169/1169\u001b[0m \u001b[32m━━━━━━━━━━━━━━━━━━━━\u001b[0m\u001b[37m\u001b[0m \u001b[1m6s\u001b[0m 5ms/step - loss: 1.1170\n",
            "\n",
            "Generating text after epoch: 15\n",
            "...Diversity: 0.2\n",
            "...Generating with seed: \"ply as a mode through which he could rea\"\n",
            "...Generated:  lly would be so so and there was the most shoulder that should be so finding of the picture and shoulder that he had been strange and the strange and shood of the senses that he had been something of the picture and seemed to himself out of the picture. “i am sibyl vane for that it was to the part of his feet of an exceve of the sounds of his feet of his face. “you are more than a little something\n",
            "-\n",
            "...Diversity: 1.2\n",
            "...Generating with seed: \"ply as a mode through which he could rea\"\n",
            "...Generated:  c eupterh. they saided two all the modes cuth for thoscen gloved for him. !neful except chety society,” hereed,  camplet lates, as” set his life, much of is. dorian,” she r“inttiusions, ”i said life i should—not me. frills one ild both furded it peopling, quice at it at presentere with openies that was not at lutuatt-witblace. objuri-smolons thead i discovered and. he heaven who are no must be sep\n",
            "-\n",
            "\u001b[1m1169/1169\u001b[0m \u001b[32m━━━━━━━━━━━━━━━━━━━━\u001b[0m\u001b[37m\u001b[0m \u001b[1m6s\u001b[0m 5ms/step - loss: 1.1199\n",
            "\n",
            "\u001b[1m1169/1169\u001b[0m \u001b[32m━━━━━━━━━━━━━━━━━━━━\u001b[0m\u001b[37m\u001b[0m \u001b[1m6s\u001b[0m 5ms/step - loss: 1.1196\n",
            "\n",
            "\u001b[1m1169/1169\u001b[0m \u001b[32m━━━━━━━━━━━━━━━━━━━━\u001b[0m\u001b[37m\u001b[0m \u001b[1m6s\u001b[0m 5ms/step - loss: 1.1140\n",
            "\n",
            "\u001b[1m1169/1169\u001b[0m \u001b[32m━━━━━━━━━━━━━━━━━━━━\u001b[0m\u001b[37m\u001b[0m \u001b[1m6s\u001b[0m 5ms/step - loss: 1.1158\n",
            "\n",
            "\u001b[1m1169/1169\u001b[0m \u001b[32m━━━━━━━━━━━━━━━━━━━━\u001b[0m\u001b[37m\u001b[0m \u001b[1m6s\u001b[0m 5ms/step - loss: 1.1082\n",
            "\n",
            "Generating text after epoch: 20\n",
            "...Diversity: 0.2\n",
            "...Generating with seed: \"shine by day and the carbuncles by night\"\n",
            "...Generated:   and the table and spandon of the secret.  “i am sibyl, and i want to the soul face, and see me in the senses beautiful all the face. “there was a stand of a standerent of his face. “i am sibyl, i am to see that i don’t think i warly with them to the picture. it was an extreminntion. they would be a mode that it is an am the world of a sorrows of the senses for his hand.  “i am siby. i want you ha\n",
            "-\n",
            "...Diversity: 1.2\n",
            "...Generating with seed: \"shine by day and the carbuncles by night\"\n",
            "...Generated:  , orno, of his track?”  “you should be like a ppeaping across utire and anding.  “you think you should do to good bepervenifon uner ogevernce to his by that sunt her.”  “old abjes. francish in mrs. mereadd to coptered’s one and reterling me.”  “i wish willy asithed it. ih, harryl_ljucter thacter’s venicement for face. a stort of usively not then one hiddess ferrelstorian, listing a terknes_ is hud\n",
            "-\n",
            "\u001b[1m1169/1169\u001b[0m \u001b[32m━━━━━━━━━━━━━━━━━━━━\u001b[0m\u001b[37m\u001b[0m \u001b[1m6s\u001b[0m 5ms/step - loss: 1.1066\n",
            "\n",
            "\u001b[1m1169/1169\u001b[0m \u001b[32m━━━━━━━━━━━━━━━━━━━━\u001b[0m\u001b[37m\u001b[0m \u001b[1m6s\u001b[0m 5ms/step - loss: 1.1047\n",
            "\n",
            "\u001b[1m1169/1169\u001b[0m \u001b[32m━━━━━━━━━━━━━━━━━━━━\u001b[0m\u001b[37m\u001b[0m \u001b[1m6s\u001b[0m 5ms/step - loss: 1.1163\n",
            "\n",
            "\u001b[1m1169/1169\u001b[0m \u001b[32m━━━━━━━━━━━━━━━━━━━━\u001b[0m\u001b[37m\u001b[0m \u001b[1m7s\u001b[0m 6ms/step - loss: 1.1027\n",
            "\n",
            "\u001b[1m1169/1169\u001b[0m \u001b[32m━━━━━━━━━━━━━━━━━━━━\u001b[0m\u001b[37m\u001b[0m \u001b[1m6s\u001b[0m 5ms/step - loss: 1.1065\n",
            "\n",
            "Generating text after epoch: 25\n",
            "...Diversity: 0.2\n",
            "...Generating with seed: \"y upon copper drums and, crouching upon \"\n",
            "...Generated:  the stained of his face and the servant came and the man with a conscience of the painter the servants of the country which he had been a word i will to him and the light and the painter the cold of the countre and form of his hair one of the operainess of the wine: and the man who had been a man who had been a man who had been a man who had been a morning the picture of the picture, and the serva\n",
            "-\n",
            "...Diversity: 1.2\n",
            "...Generating with seed: \"y upon copper drums and, crouching upon \"\n",
            "...Generated:  formation. i am lord he race, dorian your face oneirurs spriets, uid or admir tity strolrds of delesing of a life ais again. you were barse something.”  “you my don’t arrran, to-night,” mavere or regrets _desp-wablickkerates, the offreat-prohects; of wounded by the eupies fogeteredily through a censucted ohury scholledcible, the by child in, he pite! he told the room downgyt.  “my shiutes, ever, u\n",
            "-\n",
            "\u001b[1m1169/1169\u001b[0m \u001b[32m━━━━━━━━━━━━━━━━━━━━\u001b[0m\u001b[37m\u001b[0m \u001b[1m6s\u001b[0m 6ms/step - loss: 1.0931\n",
            "\n",
            "\u001b[1m1169/1169\u001b[0m \u001b[32m━━━━━━━━━━━━━━━━━━━━\u001b[0m\u001b[37m\u001b[0m \u001b[1m7s\u001b[0m 6ms/step - loss: 1.0947\n",
            "\n",
            "\u001b[1m1169/1169\u001b[0m \u001b[32m━━━━━━━━━━━━━━━━━━━━\u001b[0m\u001b[37m\u001b[0m \u001b[1m6s\u001b[0m 5ms/step - loss: 1.0919\n",
            "\n",
            "\u001b[1m1169/1169\u001b[0m \u001b[32m━━━━━━━━━━━━━━━━━━━━\u001b[0m\u001b[37m\u001b[0m \u001b[1m6s\u001b[0m 5ms/step - loss: 1.0930\n",
            "\n"
          ]
        }
      ],
      "source": [
        "epochs = 30\n",
        "batch_size = 128\n",
        "\n",
        "for epoch in range(epochs + 1):\n",
        "    model.fit(x, y, batch_size=batch_size, epochs=1)\n",
        "    print()\n",
        "\n",
        "    if epoch % 5 == 0:\n",
        "\n",
        "      print(\"Generating text after epoch: %d\" % epoch)\n",
        "\n",
        "      start_index = random.randint(0, len(text) - maxlen - 1)\n",
        "      for diversity in [0.2, 1.2]: # Experiment with high and low temp\n",
        "          print(\"...Diversity:\", diversity)\n",
        "\n",
        "          generated = \"\"\n",
        "          sentence = text[start_index : start_index + maxlen]\n",
        "          print('...Generating with seed: \"' + sentence + '\"')\n",
        "\n",
        "          for i in range(400):\n",
        "              x_pred = np.zeros((1, maxlen, len(chars)))\n",
        "              for t, char in enumerate(sentence):\n",
        "                  x_pred[0, t, char_indices[char]] = 1.0\n",
        "              preds = model.predict(x_pred, verbose=0)[0]\n",
        "              next_index = sample(preds, diversity)\n",
        "              next_char = indices_char[next_index]\n",
        "              sentence = sentence[1:] + next_char\n",
        "              generated += next_char\n",
        "\n",
        "          print(\"...Generated: \", generated)\n",
        "          print(\"-\")"
      ]
    },
    {
      "cell_type": "code",
      "source": [
        "# Final epoch at end of training\n",
        "\n",
        "print(\"Generating text after epoch: %d\" % epoch)\n",
        "\n",
        "start_index = random.randint(0, len(text) - maxlen - 1)\n",
        "for diversity in [0.2, 1.2]: # Experiment with high and low temp\n",
        "    print(\"...Diversity:\", diversity)\n",
        "\n",
        "    generated = \"\"\n",
        "    sentence = text[start_index : start_index + maxlen]\n",
        "    print('...Generating with seed: \"' + sentence + '\"')\n",
        "\n",
        "    for i in range(400):\n",
        "        x_pred = np.zeros((1, maxlen, len(chars)))\n",
        "        for t, char in enumerate(sentence):\n",
        "            x_pred[0, t, char_indices[char]] = 1.0\n",
        "        preds = model.predict(x_pred, verbose=0)[0]\n",
        "        next_index = sample(preds, diversity)\n",
        "        next_char = indices_char[next_index]\n",
        "        sentence = sentence[1:] + next_char\n",
        "        generated += next_char\n",
        "\n",
        "    print(\"...Generated: \", generated)\n",
        "    print(\"-\")"
      ],
      "metadata": {
        "colab": {
          "base_uri": "https://localhost:8080/"
        },
        "id": "8KpcAnnAhp2c",
        "outputId": "33939be6-f166-491d-a2b3-7453a7e4ba01"
      },
      "execution_count": 10,
      "outputs": [
        {
          "output_type": "stream",
          "name": "stdout",
          "text": [
            "Generating text after epoch: 29\n",
            "...Diversity: 0.2\n",
            "...Generating with seed: \"yet stirred him by its suggestion of a s\"\n",
            "...Generated:  tanding the senses of the strange for a strangerctic bor married and then a spection with the senses of the chair of the senses of the strange which start the strange from the strangery of the thing and looked at him and then a mode of the senses of the colour of the coloured painted with his life, and the man and great part of the colour of the striking and great common could not all the more in \n",
            "-\n",
            "...Diversity: 1.2\n",
            "...Generating with seed: \"yet stirred him by its suggestion of a s\"\n",
            "...Generated:  cholec, door, butgind it look of eyes topin soir.fol, do yet a rather an actirous. no?” isreroone more laugher. there was no get underred. unwaye we will be kepted itsques.”  “jumb this yorryinged, and consolled spoiled in the gravel’s  fire all attless. laid he sure onqubrury yes, he away, not of life and the greats their life. they always romed, asautryn met, and he a pleasures, of realisy who h\n",
            "-\n"
          ]
        }
      ]
    },
    {
      "cell_type": "markdown",
      "source": [
        "# 4. Evaluating the Model"
      ],
      "metadata": {
        "id": "uN74bkfvU7dF"
      }
    },
    {
      "cell_type": "markdown",
      "source": [
        "1. *Evaluating generated text*: Low temperature produces much more coherent sentences, while high temperature hardly resembles English. In terms of the low temperature responses, the words used are mostly coherent and not repetitive, however, the model has yet to produce sentences with proper grammatical construction or sense, mostly generating stream-of-consciousness style responses.\n",
        "\n",
        "2. *Refining model*: With more time and resources, increasing the number of training epochs would likely significantly increase the quality of the final output."
      ],
      "metadata": {
        "id": "us2wuEMmh3AD"
      }
    }
  ],
  "metadata": {
    "accelerator": "GPU",
    "colab": {
      "provenance": [],
      "toc_visible": true
    },
    "kernelspec": {
      "display_name": "Python 3",
      "language": "python",
      "name": "python3"
    },
    "language_info": {
      "codemirror_mode": {
        "name": "ipython",
        "version": 3
      },
      "file_extension": ".py",
      "mimetype": "text/x-python",
      "name": "python",
      "nbconvert_exporter": "python",
      "pygments_lexer": "ipython3",
      "version": "3.7.0"
    }
  },
  "nbformat": 4,
  "nbformat_minor": 0
}